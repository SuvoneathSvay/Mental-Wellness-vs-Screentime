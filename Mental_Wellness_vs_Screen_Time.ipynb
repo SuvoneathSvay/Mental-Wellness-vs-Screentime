{
  "nbformat": 4,
  "nbformat_minor": 0,
  "metadata": {
    "colab": {
      "provenance": [],
      "authorship_tag": "ABX9TyOjmpEMhfdylLtN3lzD+ksW",
      "include_colab_link": true
    },
    "kernelspec": {
      "name": "python3",
      "display_name": "Python 3"
    },
    "language_info": {
      "name": "python"
    }
  },
  "cells": [
    {
      "cell_type": "markdown",
      "metadata": {
        "id": "view-in-github",
        "colab_type": "text"
      },
      "source": [
        "<a href=\"https://colab.research.google.com/github/SuvoneathSvay/Mental-Wellness-vs-Screentime/blob/main/Mental_Wellness_vs_Screen_Time.ipynb\" target=\"_parent\"><img src=\"https://colab.research.google.com/assets/colab-badge.svg\" alt=\"Open In Colab\"/></a>"
      ]
    },
    {
      "cell_type": "code",
      "execution_count": null,
      "metadata": {
        "id": "ko23ugn4Kxxd"
      },
      "outputs": [],
      "source": [
        "import numpy as np\n",
        "import pandas as pd\n",
        "\n",
        "import os\n",
        "for dirname, _, filenames in os.walk('/kaggle/input'):\n",
        "    for filename in filenames:\n",
        "        print(os.path.join(dirname, filename))\n",
        "\n"
      ]
    },
    {
      "cell_type": "code",
      "source": [
        "#import modelings\n",
        "import numpy as np\n",
        "import pandas as pd\n",
        "\n",
        "import matplotlib.pyplot as plt\n",
        "import seaborn as sns\n",
        "from sklearn.model_selection import train_test_split, cross_val_score\n",
        "from sklearn.ensemble import RandomForestRegressor, RandomForestClassifier\n",
        "from sklearn.linear_model import LinearRegression, LogisticRegression\n",
        "from sklearn.metrics import mean_squared_error, r2_score, mean_absolute_error, classification_report, roc_auc_score, accuracy_score\n",
        "from sklearn.model_selection import train_test_split\n",
        "from sklearn.naive_bayes import GaussianNB\n",
        "from sklearn.metrics import accuracy_score\n",
        "from sklearn.impute import SimpleImputer\n",
        "\n"
      ],
      "metadata": {
        "id": "0tCM-PXdQbnH"
      },
      "execution_count": null,
      "outputs": []
    },
    {
      "cell_type": "code",
      "source": [
        "#Load data\n",
        "DATA_PATH = '/content/ScreenTime vs MentalWellness.csv'"
      ],
      "metadata": {
        "id": "c3DoK0k8TAgo"
      },
      "execution_count": null,
      "outputs": []
    },
    {
      "cell_type": "code",
      "source": [
        "df = pd.read_csv(DATA_PATH)\n",
        "print('Rows, Columns:', df.shape)\n",
        "print(df.info())"
      ],
      "metadata": {
        "colab": {
          "base_uri": "https://localhost:8080/"
        },
        "id": "xgc0Hu3qTV0K",
        "outputId": "417af08a-6214-4cb5-962a-880e4a7c9efd"
      },
      "execution_count": null,
      "outputs": [
        {
          "output_type": "stream",
          "name": "stdout",
          "text": [
            "Rows, Columns: (400, 16)\n",
            "<class 'pandas.core.frame.DataFrame'>\n",
            "RangeIndex: 400 entries, 0 to 399\n",
            "Data columns (total 16 columns):\n",
            " #   Column                       Non-Null Count  Dtype  \n",
            "---  ------                       --------------  -----  \n",
            " 0   user_id                      400 non-null    object \n",
            " 1   age                          400 non-null    int64  \n",
            " 2   gender                       400 non-null    object \n",
            " 3   occupation                   400 non-null    object \n",
            " 4   work_mode                    400 non-null    object \n",
            " 5   screen_time_hours            400 non-null    float64\n",
            " 6   work_screen_hours            400 non-null    float64\n",
            " 7   leisure_screen_hours         400 non-null    float64\n",
            " 8   sleep_hours                  400 non-null    float64\n",
            " 9   sleep_quality_1_5            400 non-null    int64  \n",
            " 10  stress_level_0_10            400 non-null    float64\n",
            " 11  productivity_0_100           400 non-null    float64\n",
            " 12  exercise_minutes_per_week    400 non-null    int64  \n",
            " 13  social_hours_per_week        400 non-null    float64\n",
            " 14  mental_wellness_index_0_100  400 non-null    float64\n",
            " 15  Unnamed: 15                  0 non-null      float64\n",
            "dtypes: float64(9), int64(3), object(4)\n",
            "memory usage: 50.1+ KB\n",
            "None\n"
          ]
        }
      ]
    },
    {
      "cell_type": "code",
      "source": [
        "#cell3: Cleaning\n",
        "for col in ['gender','occupation','work_mode']:\n",
        "    df[col] = df[col].astype('category')\n",
        "print('\\nMissing values per column:')\n",
        "df = df.dropna(axis=1, how='all')\n",
        "\n",
        "print(df.isna().sum())\n",
        "\n",
        "num_cols = df.select_dtypes(include=['float64','int64']).columns.tolist()\n",
        "cat_cols = df.select_dtypes(include=['category','object']).columns.tolist()\n",
        "imp_num = SimpleImputer(strategy='median')\n",
        "if df[num_cols].isna().sum().sum() > 0:\n",
        "    df[num_cols] = imp_num.fit_transform(df[num_cols])\n",
        "\n"
      ],
      "metadata": {
        "id": "zzeAw2TXUE0B"
      },
      "execution_count": null,
      "outputs": []
    },
    {
      "cell_type": "code",
      "source": [
        "#cell4\n",
        "df['high_stress'] = (df['stress_level_0_10'] > 6).astype(int)\n",
        "bins = [0,4,7,10,24]\n",
        "labels = ['Low','Moderate','High','Very High']\n",
        "df['screen_time_cat'] = pd.cut(df['screen_time_hours'], bins=bins, labels=labels)\n",
        "\n",
        "df['lifestyle_score'] = (\n",
        "    (df['exercise_minutes_per_week'] / df['exercise_minutes_per_week'].max()) * 40 +\n",
        "    (df['social_hours_per_week'] / df['social_hours_per_week'].max()) * 20 +\n",
        "    (df['sleep_quality_1_5'] / 5.0) * 40\n",
        ")"
      ],
      "metadata": {
        "id": "X2vk_McjqT4g"
      },
      "execution_count": null,
      "outputs": []
    },
    {
      "cell_type": "code",
      "source": [
        "#cell 5 visualizations\n",
        "\n",
        "plt.figure(figsize=(10,4))\n",
        "plt.subplot(1,2,1)\n",
        "sns.histplot(df['screen_time_hours'], kde=True)\n",
        "plt.title('Screen time (hours/day)')\n",
        "\n",
        "plt.subplot(1,2,2)\n",
        "sns.histplot(df['mental_wellness_index_0_100'], kde=True)\n",
        "plt.title('Mental Wellness Index')\n",
        "plt.tight_layout()\n",
        "plt.show()\n",
        "\n",
        "# Boxplots by occupation\n",
        "plt.figure(figsize=(10,5))\n",
        "sns.boxplot(x='occupation', y='screen_time_hours', data=df)\n",
        "plt.title('Screen time by Occupation')\n",
        "plt.show()\n"
      ],
      "metadata": {
        "id": "uZvJ12OBqtW8"
      },
      "execution_count": null,
      "outputs": []
    },
    {
      "cell_type": "code",
      "source": [
        "#cell 6 relationships plots\n",
        "\n",
        "plt.figure(figsize=(6,5))\n",
        "sns.scatterplot(x='screen_time_hours', y='mental_wellness_index_0_100', hue='gender', data=df)\n",
        "plt.title('Screen time vs Mental Wellness')\n",
        "plt.show()\n",
        "\n",
        "# Sleep vs Screen time\n",
        "plt.figure(figsize=(6,5))\n",
        "sns.scatterplot(x='screen_time_hours', y='sleep_hours', data=df)\n",
        "plt.title('Screen time vs Sleep hours')\n",
        "plt.show()\n",
        "\n",
        "# Correlation heatmap (numeric features)\n",
        "plt.figure(figsize=(10,8))\n",
        "num_df = df.select_dtypes(include=['float64','int64'])\n",
        "cm = num_df.corr()\n",
        "sns.heatmap(cm, annot=True, fmt='.2f', cmap='vlag')\n",
        "plt.title('Correlation matrix')\n",
        "plt.show()"
      ],
      "metadata": {
        "id": "WghdrTikrAc0"
      },
      "execution_count": null,
      "outputs": []
    },
    {
      "cell_type": "code",
      "source": [
        "# cell 7: statistical checks\n",
        "#correlatioon between screen time and mental wellness\n",
        "\n",
        "from scipy.stats import pearsonr, spearmanr\n",
        "pearson = pearsonr(df['screen_time_hours'], df['mental_wellness_index_0_100'])\n",
        "spearman = spearmanr(df['screen_time_hours'], df['mental_wellness_index_0_100'])\n",
        "print('Pearson r:', pearson)\n",
        "print('Spearman rho:', spearman)\n",
        "\n",
        "# Compare wellness across screen_time_cat\n",
        "plt.figure(figsize=(8,5))\n",
        "sns.boxplot(x='screen_time_cat', y='mental_wellness_index_0_100', data=df, order=labels)\n",
        "plt.title('Wellness by Screen Time Category')\n",
        "plt.show()"
      ],
      "metadata": {
        "id": "DzAuCQE6rVVD"
      },
      "execution_count": null,
      "outputs": []
    },
    {
      "cell_type": "code",
      "source": [
        "#cell 8: clustering\n",
        "\n",
        "from sklearn.preprocessing import StandardScaler\n",
        "from sklearn.cluster import KMeans\n",
        "\n",
        "cluster_features = ['screen_time_hours','sleep_hours','stress_level_0_10','mental_wellness_index_0_100','productivity_0_100']\n",
        "Xc = df[cluster_features].dropna()\n",
        "scaler = StandardScaler()\n",
        "Xc_s = scaler.fit_transform(Xc)\n",
        "\n",
        "# Elbow Method\n",
        "inertia = []\n",
        "K = range(1,7)\n",
        "for k in K:\n",
        "    km = KMeans(n_clusters=k, random_state=42).fit(Xc_s)\n",
        "    inertia.append(km.inertia_)\n",
        "\n",
        "plt.figure(figsize=(6,4))\n",
        "plt.plot(K, inertia, '-o')\n",
        "plt.xlabel('k')\n",
        "plt.ylabel('inertia')\n",
        "plt.title('Elbow Method for KMeans')\n",
        "plt.show()\n",
        "\n",
        "# Fit KMeans with k=3\n",
        "kmeans = KMeans(n_clusters=3, random_state=42).fit(Xc_s)\n",
        "df['cluster'] = kmeans.predict(scaler.transform(df[cluster_features]))\n",
        "plt.figure(figsize=(8,6))\n",
        "sns.scatterplot(x='screen_time_hours', y='mental_wellness_index_0_100', hue='cluster', data=df, palette='deep')\n",
        "plt.title('Clusters: Screen time vs Wellness')\n",
        "plt.show()\n",
        "\n",
        "# Cluster centers (rescaled)\n",
        "centers = scaler.inverse_transform(kmeans.cluster_centers_)\n",
        "centers_df = pd.DataFrame(centers, columns=cluster_features)\n",
        "print('Cluster centers:')\n",
        "print(centers_df)"
      ],
      "metadata": {
        "id": "cA1AhXm4wGrt"
      },
      "execution_count": null,
      "outputs": []
    },
    {
      "cell_type": "code",
      "source": [
        "# cell 9: regression\n",
        "\n",
        "features = ['age','screen_time_hours','sleep_hours','sleep_quality_1_5','stress_level_0_10','productivity_0_100','exercise_minutes_per_week','social_hours_per_week']\n",
        "X = df[features]\n",
        "y = df['mental_wellness_index_0_100']\n",
        "\n",
        "# Train-test split\n",
        "X_train, X_test, y_train, y_test = train_test_split(X, y, test_size=0.2, random_state=42)\n",
        "\n",
        "# Model 1: Linear Regression\n",
        "lr = LinearRegression()\n",
        "lr.fit(X_train, y_train)\n",
        "y_pred_lr = lr.predict(X_test)\n",
        "print('\\nLinear Regression Metrics:')\n",
        "print('RMSE:', np.sqrt(mean_squared_error(y_test, y_pred_lr)))\n",
        "print('MAE:', mean_absolute_error(y_test, y_pred_lr))\n",
        "print('R2:', r2_score(y_test, y_pred_lr))\n",
        "\n",
        "# Model 2: Random Forest Regressor\n",
        "rf = RandomForestRegressor(n_estimators=200, random_state=42)\n",
        "rf.fit(X_train, y_train)\n",
        "y_pred_rf = rf.predict(X_test)\n",
        "print('\\nRandom Forest Metrics:')\n",
        "print('RMSE:', np.sqrt(mean_squared_error(y_test, y_pred_rf)))\n",
        "print('MAE:', mean_absolute_error(y_test, y_pred_rf))\n",
        "print('R2:', r2_score(y_test, y_pred_rf))\n",
        "\n",
        "# Model 3: Haven't figured out yet\n",
        "\n",
        "\n",
        "\n",
        "# Feature importances\n",
        "fi = pd.Series(rf.feature_importances_, index=features).sort_values(ascending=False)\n",
        "print('\\nFeature importances (RF):')\n",
        "print(fi)\n",
        "\n",
        "plt.figure(figsize=(8,4))\n",
        "fi.plot(kind='bar')\n",
        "plt.title('Feature importances')\n",
        "plt.show()"
      ],
      "metadata": {
        "id": "KtojQkdLrpjW"
      },
      "execution_count": null,
      "outputs": []
    },
    {
      "cell_type": "code",
      "source": [
        "#cell 10: baselines classification/ predict high-stress\n",
        "\n",
        "clf_features = ['age','screen_time_hours','sleep_hours','sleep_quality_1_5','productivity_0_100','exercise_minutes_per_week']\n",
        "Xc = df[clf_features]\n",
        "yc = df['high_stress']\n",
        "Xtr, Xte, ytr, yte = train_test_split(Xc, yc, test_size=0.2, random_state=42)\n",
        "\n",
        "# Random Forest Classifier\n",
        "rfc = RandomForestClassifier(n_estimators=200, random_state=42)\n",
        "rfc.fit(Xtr, ytr)\n",
        "yp = rfc.predict(Xte)\n",
        "yp_prob = rfc.predict_proba(Xte)[:,1]\n",
        "\n",
        "print('\\nRandom Forest Classifier Report:')\n",
        "print(classification_report(yte, yp))\n",
        "print('Accuracy:', accuracy_score(yte, yp))\n",
        "try:\n",
        "    print('ROC AUC:', roc_auc_score(yte, yp_prob))\n",
        "except Exception:\n",
        "    pass\n",
        "\n",
        "# Feature importance for classifier\n",
        "fi_clf = pd.Series(rfc.feature_importances_, index=clf_features).sort_values(ascending=False)\n",
        "print('\\nClassifier Feature importances:')\n",
        "print(fi_clf)\n",
        "\n",
        "plt.figure(figsize=(8,4))\n",
        "fi_clf.plot(kind='bar')\n",
        "plt.title('Classifier Feature importances')\n",
        "plt.show()"
      ],
      "metadata": {
        "id": "LLl3zqtLryXH"
      },
      "execution_count": null,
      "outputs": []
    }
  ]
}